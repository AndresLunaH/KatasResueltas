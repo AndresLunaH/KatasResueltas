{
 "cells": [
  {
   "cell_type": "code",
   "execution_count": 1,
   "metadata": {},
   "outputs": [
    {
     "name": "stdout",
     "output_type": "stream",
     "text": [
      "Couldn't find the config.txt file!:  [Errno 2] No such file or directory: 'config.txt'\n"
     ]
    }
   ],
   "source": [
    "# config.py\n",
    "\n",
    "def main():\n",
    "\ttry:\n",
    "\t\tconfiguration = open('config.txt')\n",
    "\texcept FileNotFoundError as err:\n",
    "\t\tprint(\"Couldn't find the config.txt file!: \", err)\n",
    "\texcept IsADirectoryError:\n",
    "\t\tprint(\"Found config.txt but it is a directory, couln't read it!\")\n",
    "\texcept PermissionError:\n",
    "\t\tprint(\"Found config.txt but couldn't read it!\")\n",
    "\texcept (BlockingIOError, TimeoutError):\n",
    "\t\tprint(\"Filesystem under heavy load, can't complete reading configuration file!\")\n",
    "\n",
    "\n",
    "if __name__ == \"__main__\":\n",
    "\tmain()"
   ]
  }
 ],
 "metadata": {
  "interpreter": {
   "hash": "97de5490b5db6304e8a789788a4fb5fa3fbce76d0762ee0dacf47f3675b51953"
  },
  "kernelspec": {
   "display_name": "Python 3.10.2 64-bit",
   "language": "python",
   "name": "python3"
  },
  "language_info": {
   "codemirror_mode": {
    "name": "ipython",
    "version": 3
   },
   "file_extension": ".py",
   "mimetype": "text/x-python",
   "name": "python",
   "nbconvert_exporter": "python",
   "pygments_lexer": "ipython3",
   "version": "3.10.2"
  },
  "orig_nbformat": 4
 },
 "nbformat": 4,
 "nbformat_minor": 2
}
